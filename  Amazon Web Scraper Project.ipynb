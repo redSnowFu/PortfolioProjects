{
 "cells": [
  {
   "cell_type": "code",
   "execution_count": null,
   "id": "8b22398b",
   "metadata": {},
   "outputs": [],
   "source": [
    "#import libraries \n",
    "from bs4 import BeautifulSoup\n",
    "import requests\n",
    "import time\n",
    "import datetime\n",
    "import csv\n",
    "import smtplib\n",
    "import pandas as pd"
   ]
  },
  {
   "cell_type": "code",
   "execution_count": 2,
   "id": "04bf9bab",
   "metadata": {},
   "outputs": [
    {
     "name": "stdout",
     "output_type": "stream",
     "text": [
      "\n",
      "                        $99.99\n",
      "                       \n"
     ]
    }
   ],
   "source": [
    "#connect to the website\n",
    "URL='https://www.amazon.ca/Monster-Bluetooth-Upgraded-Portable-Waterproof/dp/B098Q9JL28/?_encoding=UTF8&pf_rd_p=72b03f0f-4e11-4b99-b598-5b2869715532&pd_rd_wg=gEz5Y&pf_rd_r=M9M2264N2RY3W4YHSYBS&pd_rd_w=bdyMl&pd_rd_r=311fb808-bec2-4380-9c10-8e04476c5428&ref_=pd_gw_ci_mcx_mr_hp_atf_m'\n",
    "\n",
    "headers = {\"User-Agent\": \"Mozilla/5.0 (Windows NT 10.0; Win64; x64) AppleWebKit/537.36 (KHTML, like Gecko) Chrome/78.0.3904.108 Safari/537.36\", \"Accept-Encoding\":\"gzip, deflate\", \"Accept\":\"text/html,application/xhtml+xml,application/xml;q=0.9,*/*;q=0.8\", \"DNT\":\"1\",\"Connection\":\"close\", \"Upgrade-Insecure-Requests\":\"1\"}\n",
    "\n",
    "page = requests.get(URL, headers=headers)\n",
    "\n",
    "soup1=BeautifulSoup(page.content, \"html.parser\")\n",
    "\n",
    "soup2=BeautifulSoup(soup1.prettify(), \"html.parser\")\n",
    "\n",
    "title=soup2.find(id='productTitle').get_text()\n",
    "\n",
    "price=soup2.find(\"span\", {\"class\":\"a-offscreen\"}).get_text()\n",
    "\n",
    "print(price)\n",
    "\n",
    "\n",
    "\n"
   ]
  },
  {
   "cell_type": "code",
   "execution_count": 3,
   "id": "2ac63054",
   "metadata": {},
   "outputs": [
    {
     "name": "stdout",
     "output_type": "stream",
     "text": [
      "99.99\n",
      "Monster Bluetooth Speaker, Upgraded S310 Portable Bluetooth Speaker,30W True Wireless Stereo Pairing Deliver Dynamic Sound,Waterproof Speaker,24H,Bluetooth 5.2 Built-in Mic, for iPhone, Samsung\n"
     ]
    }
   ],
   "source": [
    "price = price.strip()[1:]\n",
    "title = title.strip()\n",
    "\n",
    "print(price)\n",
    "print(title)"
   ]
  },
  {
   "cell_type": "code",
   "execution_count": 4,
   "id": "29ac024c",
   "metadata": {},
   "outputs": [
    {
     "name": "stdout",
     "output_type": "stream",
     "text": [
      "2022-01-26\n"
     ]
    }
   ],
   "source": [
    "today=datetime.date.today()\n",
    "print(today)"
   ]
  },
  {
   "cell_type": "code",
   "execution_count": 5,
   "id": "7d1986c6",
   "metadata": {},
   "outputs": [],
   "source": [
    "header=['Title', 'Price', 'Date']\n",
    "data=[title, price, today]\n",
    "\n",
    "\n",
    "#with open('AmazonWebScraperDataset.csv', 'w', newline='', encoding='UTF8') as f:\n",
    "    #writer=csv.writer(f)\n",
    "    #writer.writerow(header)\n",
    "    #writer.writerow(data)"
   ]
  },
  {
   "cell_type": "code",
   "execution_count": 7,
   "id": "11a34f77",
   "metadata": {},
   "outputs": [
    {
     "name": "stdout",
     "output_type": "stream",
     "text": [
      "                                               Title  Price        Date\n",
      "0  Monster Bluetooth Speaker, Upgraded S310 Porta...  99.99  2022-01-26\n"
     ]
    }
   ],
   "source": [
    "df = pd.read_csv(r'C:\\Users\\david\\AmazonWebScraperDataset.csv')\n",
    "print(df)"
   ]
  },
  {
   "cell_type": "code",
   "execution_count": null,
   "id": "f63532e6",
   "metadata": {},
   "outputs": [],
   "source": [
    "#appending data to the csv\n",
    "\n",
    "with open('AmazonWebScraperDataset.csv', 'a+', newline='', encoding='UTF8') as f:\n",
    "    writer=csv.writer(f)\n",
    "    writer.writerow(data)"
   ]
  },
  {
   "cell_type": "code",
   "execution_count": 15,
   "id": "f8c0a99a",
   "metadata": {},
   "outputs": [],
   "source": [
    "def check_price():\n",
    "    URL='https://www.amazon.ca/Monster-Bluetooth-Upgraded-Portable-Waterproof/dp/B098Q9JL28/?_encoding=UTF8&pf_rd_p=72b03f0f-4e11-4b99-b598-5b2869715532&pd_rd_wg=gEz5Y&pf_rd_r=M9M2264N2RY3W4YHSYBS&pd_rd_w=bdyMl&pd_rd_r=311fb808-bec2-4380-9c10-8e04476c5428&ref_=pd_gw_ci_mcx_mr_hp_atf_m'\n",
    "\n",
    "    headers = {\"User-Agent\": \"Mozilla/5.0 (Windows NT 10.0; Win64; x64) AppleWebKit/537.36 (KHTML, like Gecko) Chrome/78.0.3904.108 Safari/537.36\", \"Accept-Encoding\":\"gzip, deflate\", \"Accept\":\"text/html,application/xhtml+xml,application/xml;q=0.9,*/*;q=0.8\", \"DNT\":\"1\",\"Connection\":\"close\", \"Upgrade-Insecure-Requests\":\"1\"}\n",
    "\n",
    "    page = requests.get(URL, headers=headers)\n",
    "\n",
    "    soup1=BeautifulSoup(page.content, \"html.parser\")\n",
    "\n",
    "    soup2=BeautifulSoup(soup1.prettify(), \"html.parser\")\n",
    "\n",
    "    title=soup2.find(id='productTitle').get_text()\n",
    "\n",
    "    price=soup2.find(\"span\", {\"class\":\"a-offscreen\"}).get_text()\n",
    "\n",
    "    price = price.strip()[1:]\n",
    "    title = title.strip()\n",
    "    today=datetime.date.today()\n",
    "    header=['Title', 'Price', 'Date']\n",
    "    data=[title, price, today]\n",
    "    \n",
    "    with open('AmazonWebScraperDataset.csv', 'a+', newline='', encoding='UTF8') as f:\n",
    "        writer=csv.writer(f)\n",
    "        writer.writerow(data)\n",
    "        \n",
    "    if(price<95):\n",
    "        sent_mail()"
   ]
  },
  {
   "cell_type": "code",
   "execution_count": null,
   "id": "294eb5ff",
   "metadata": {},
   "outputs": [],
   "source": [
    "while(True):\n",
    "    check_price()\n",
    "    time.sleep(86400)"
   ]
  },
  {
   "cell_type": "code",
   "execution_count": 13,
   "id": "df4a0dfb",
   "metadata": {},
   "outputs": [
    {
     "name": "stdout",
     "output_type": "stream",
     "text": [
      "                                                Title  Price        Date\n",
      "0   Monster Bluetooth Speaker, Upgraded S310 Porta...  99.99  2022-01-26\n",
      "1   Monster Bluetooth Speaker, Upgraded S310 Porta...  99.99  2022-01-26\n",
      "2   Monster Bluetooth Speaker, Upgraded S310 Porta...  99.99  2022-01-26\n",
      "3   Monster Bluetooth Speaker, Upgraded S310 Porta...  99.99  2022-01-26\n",
      "4   Monster Bluetooth Speaker, Upgraded S310 Porta...  99.99  2022-01-26\n",
      "5   Monster Bluetooth Speaker, Upgraded S310 Porta...  99.99  2022-01-26\n",
      "6   Monster Bluetooth Speaker, Upgraded S310 Porta...  99.99  2022-01-26\n",
      "7   Monster Bluetooth Speaker, Upgraded S310 Porta...  99.99  2022-01-26\n",
      "8   Monster Bluetooth Speaker, Upgraded S310 Porta...  99.99  2022-01-26\n",
      "9   Monster Bluetooth Speaker, Upgraded S310 Porta...  99.99  2022-01-26\n",
      "10  Monster Bluetooth Speaker, Upgraded S310 Porta...  99.99  2022-01-26\n",
      "11  Monster Bluetooth Speaker, Upgraded S310 Porta...  99.99  2022-01-26\n",
      "12  Monster Bluetooth Speaker, Upgraded S310 Porta...  99.99  2022-01-26\n",
      "13  Monster Bluetooth Speaker, Upgraded S310 Porta...  99.99  2022-01-26\n",
      "14  Monster Bluetooth Speaker, Upgraded S310 Porta...  99.99  2022-01-26\n",
      "15  Monster Bluetooth Speaker, Upgraded S310 Porta...  99.99  2022-01-26\n",
      "16  Monster Bluetooth Speaker, Upgraded S310 Porta...  99.99  2022-01-26\n",
      "17  Monster Bluetooth Speaker, Upgraded S310 Porta...  99.99  2022-01-26\n",
      "18  Monster Bluetooth Speaker, Upgraded S310 Porta...  99.99  2022-01-26\n",
      "19  Monster Bluetooth Speaker, Upgraded S310 Porta...  99.99  2022-01-26\n",
      "20  Monster Bluetooth Speaker, Upgraded S310 Porta...  99.99  2022-01-26\n",
      "21  Monster Bluetooth Speaker, Upgraded S310 Porta...  99.99  2022-01-26\n",
      "22  Monster Bluetooth Speaker, Upgraded S310 Porta...  99.99  2022-01-26\n",
      "23  Monster Bluetooth Speaker, Upgraded S310 Porta...  99.99  2022-01-26\n"
     ]
    }
   ],
   "source": [
    "df = pd.read_csv(r'C:\\Users\\david\\AmazonWebScraperDataset.csv')\n",
    "print(df)"
   ]
  },
  {
   "cell_type": "code",
   "execution_count": 14,
   "id": "70bd6a80",
   "metadata": {},
   "outputs": [],
   "source": [
    "def send_mail():\n",
    "    server = smtplib.SMTP_SSL('smtp.gmail.com',465)\n",
    "    server.ehlo()\n",
    "    #server.starttls()\n",
    "    server.ehlo()\n",
    "    server.login('davidwu4836@gmail.com','xxxxxxxxxxxxxx')\n",
    "    \n",
    "    subject = \"The item you want is become cheaper! Now is your chance to buy!\"\n",
    "    body = \"Sir, This is the moment we have been waiting for. Now is your chance to pick up the item of your dreams. Don't mess it up! Link here: https://www.amazon.ca/Monster-Bluetooth-Upgraded-Portable-Waterproof/dp/B098Q9JL28/?_encoding=UTF8&pf_rd_p=72b03f0f-4e11-4b99-b598-5b2869715532&pd_rd_wg=gEz5Y&pf_rd_r=M9M2264N2RY3W4YHSYBS&pd_rd_w=bdyMl&pd_rd_r=311fb808-bec2-4380-9c10-8e04476c5428&ref_=pd_gw_ci_mcx_mr_hp_atf_m\"\n",
    "   \n",
    "    msg = f\"Subject: {subject}\\n\\n{body}\"\n",
    "    \n",
    "    server.sendmail(\n",
    "        'davidwu4836@gmail.com',\n",
    "        msg\n",
    "     \n",
    "    )"
   ]
  },
  {
   "cell_type": "code",
   "execution_count": null,
   "id": "e3245b69",
   "metadata": {},
   "outputs": [],
   "source": []
  }
 ],
 "metadata": {
  "kernelspec": {
   "display_name": "Python 3 (ipykernel)",
   "language": "python",
   "name": "python3"
  },
  "language_info": {
   "codemirror_mode": {
    "name": "ipython",
    "version": 3
   },
   "file_extension": ".py",
   "mimetype": "text/x-python",
   "name": "python",
   "nbconvert_exporter": "python",
   "pygments_lexer": "ipython3",
   "version": "3.9.7"
  }
 },
 "nbformat": 4,
 "nbformat_minor": 5
}
